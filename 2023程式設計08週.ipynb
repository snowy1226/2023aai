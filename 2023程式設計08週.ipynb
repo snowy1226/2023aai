{
  "nbformat": 4,
  "nbformat_minor": 0,
  "metadata": {
    "colab": {
      "provenance": [],
      "authorship_tag": "ABX9TyPYxWskIMZupTnSj6hrrJ1V",
      "include_colab_link": true
    },
    "kernelspec": {
      "name": "python3",
      "display_name": "Python 3"
    },
    "language_info": {
      "name": "python"
    }
  },
  "cells": [
    {
      "cell_type": "markdown",
      "metadata": {
        "id": "view-in-github",
        "colab_type": "text"
      },
      "source": [
        "<a href=\"https://colab.research.google.com/github/snowy1226/2023aai/blob/main/2023%E7%A8%8B%E5%BC%8F%E8%A8%AD%E8%A8%8808%E9%80%B1.ipynb\" target=\"_parent\"><img src=\"https://colab.research.google.com/assets/colab-badge.svg\" alt=\"Open In Colab\"/></a>"
      ]
    },
    {
      "cell_type": "markdown",
      "source": [
        "判斷2的多次方"
      ],
      "metadata": {
        "id": "l9GGfLHHd49o"
      }
    },
    {
      "cell_type": "code",
      "source": [
        "lass Solution:\n",
        "    def isPowerOfTwo(self, n: int) -> bool:\n",
        "         if n<=0:\n",
        "             return False\n",
        "         while n>1:\n",
        "            if n % 2 != 0:\n",
        "                return False\n",
        "            else:\n",
        "             n = n // 2\n",
        "\n",
        "         return True"
      ],
      "metadata": {
        "id": "QQP_cUFWeGr4"
      },
      "execution_count": null,
      "outputs": []
    },
    {
      "cell_type": "markdown",
      "source": [
        "判斷3的多次方"
      ],
      "metadata": {
        "id": "YG1hTBd9eJnI"
      }
    },
    {
      "cell_type": "code",
      "source": [
        "lass Solution:\n",
        "    def isPowerOfThree(self, n: int) -> bool:\n",
        "        if n<=0:\n",
        "             return False\n",
        "        while n>1:\n",
        "            if n % 3 != 0:\n",
        "                return False\n",
        "            else:\n",
        "             n = n // 3\n",
        "\n",
        "        return True"
      ],
      "metadata": {
        "id": "aEm_cRvoeUJY"
      },
      "execution_count": null,
      "outputs": []
    },
    {
      "cell_type": "markdown",
      "source": [
        "剝皮法"
      ],
      "metadata": {
        "id": "CqCUsnR7hief"
      }
    },
    {
      "cell_type": "code",
      "source": [
        "#week08-3\n",
        "a = 1234\n",
        "while a>0:\n",
        "  print(a%10)\n",
        "  a = a // 10"
      ],
      "metadata": {
        "colab": {
          "base_uri": "https://localhost:8080/"
        },
        "id": "yjlIoF_HkA7b",
        "outputId": "bab2dc6f-65a3-4300-ec68-ac7a67c3856a"
      },
      "execution_count": 5,
      "outputs": [
        {
          "output_type": "stream",
          "name": "stdout",
          "text": [
            "4\n",
            "3\n",
            "2\n",
            "1\n"
          ]
        }
      ]
    },
    {
      "cell_type": "code",
      "source": [
        " #week08-4\n",
        " a = 1234\n",
        " ans = 0\n",
        " while a>0:\n",
        "    ans = ans * 10 + a%10\n",
        "    print('現在的a是', a, '剝出來的皮a%10是', a%10, '現在的ans就變成', ans)\n",
        "    a = a // 10\n"
      ],
      "metadata": {
        "colab": {
          "base_uri": "https://localhost:8080/"
        },
        "id": "y42UpuMkg6gO",
        "outputId": "8f835dc5-278f-4825-8d7a-c5aabd328518"
      },
      "execution_count": 4,
      "outputs": [
        {
          "output_type": "stream",
          "name": "stdout",
          "text": [
            "現在的a是 1234 剝出來的皮a%10是 4 現在的ans就變成 4\n",
            "現在的a是 123 剝出來的皮a%10是 3 現在的ans就變成 43\n",
            "現在的a是 12 剝出來的皮a%10是 2 現在的ans就變成 432\n",
            "現在的a是 1 剝出來的皮a%10是 1 現在的ans就變成 4321\n"
          ]
        }
      ]
    },
    {
      "cell_type": "code",
      "source": [
        "#week-5考試\n",
        "a = int(input())\n",
        "b = a\n",
        "ans = 0\n",
        "while a>0:\n",
        "     ans = ans * 10 +a%10\n",
        "     a = a // 10\n",
        "\n",
        "print(f'{b}+{ans}={b+ans}')\n"
      ],
      "metadata": {
        "id": "M61GozTdnoLh"
      },
      "execution_count": null,
      "outputs": []
    },
    {
      "cell_type": "code",
      "source": [
        "#字典 Valid Anagram\n",
        "class Solution:\n",
        "    def isAnagram(self, s: str, t: str) -> bool:\n",
        "        d = {}\n",
        "        for c in s:\n",
        "            if c in d:\n",
        "                d[c]=d[c] + 1\n",
        "            else:\n",
        "                d[c]=1\n",
        "\n",
        "        for c in t:\n",
        "            if c not in d:\n",
        "                return False\n",
        "            if d[c]<= 0:\n",
        "                return False\n",
        "            else:\n",
        "                d[c]=d[c]-1\n",
        "\n",
        "        return True"
      ],
      "metadata": {
        "id": "95L9fnNyzMF6"
      },
      "execution_count": null,
      "outputs": []
    }
  ]
}